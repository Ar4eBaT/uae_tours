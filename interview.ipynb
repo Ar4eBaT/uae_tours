{
 "cells": [
  {
   "cell_type": "markdown",
   "metadata": {},
   "source": [
    "## «Цены на туры»\n",
    "\n",
    "**Описание задачи:**\n",
    "\n",
    "Вам необходимо разработать прогноз продаж для туроператора, продающего туры в Объединенные Арабские Эмираты с помощью статистических методов. \n",
    "\n",
    "**Дано:**\n",
    "- Туроператор «ОАЭ Тур» продает туры в ОАЭ на своем сайте;\n",
    "- Единственным каналом продвижения является SEO в Яндексе. Единственным поисковым запросом, по которому оптимизирован сайт, является «туры в оаэ»;\n",
    "- У «ОАЭ Тур» есть только один конкурент;\n",
    "- Основной фактор конкуренции – это цена;\n",
    "- В качестве функции полезности используйте функцию полезности Бернулли: $ U(q) = \\sum_{i} a_{i}\\ln q_{i} $;\n",
    "- Имеется статистика по средним ценам на тур у «ОАЭ Тур» и конкурента, а также количеству заказов «ОАЭ Тур», в недельном разрезе;\n",
    "- Считайте, что доля рынка «ОАЭ Тур» мала;\n",
    "- Считайте, что объем продаж конкурента (в количестве заказов) пропорционален рыночному интересу (объему спроса)\n",
    "\n",
    "**Найти:**\n",
    "- Определить ключевой фактор, позволяющий релевантно оценить рыночный спрос на туры в ОАЭ;\n",
    "- Найти значение этого фактора понедельно с **05.12.2016** по **03.12.2017**; Искать можно в любых источниках;\n",
    "- Сформировать модель, описывающую зависимость между спросом, ценами и количеством заказов. Привести обоснование модели; \n",
    "- С помощью статистических методов рассчитать и вывести в числах понедельный прогноз продаж с 25.09.2017 по 03.12.2017 на основе данных с 05.12.2016 по 24.09.2017."
   ]
  },
  {
   "cell_type": "code",
   "execution_count": 1,
   "metadata": {},
   "outputs": [],
   "source": [
    "import pandas as pd\n",
    "import numpy as np"
   ]
  },
  {
   "cell_type": "code",
   "execution_count": 2,
   "metadata": {},
   "outputs": [
    {
     "data": {
      "text/html": [
       "<div>\n",
       "<style>\n",
       "    .dataframe thead tr:only-child th {\n",
       "        text-align: right;\n",
       "    }\n",
       "\n",
       "    .dataframe thead th {\n",
       "        text-align: left;\n",
       "    }\n",
       "\n",
       "    .dataframe tbody tr th {\n",
       "        vertical-align: top;\n",
       "    }\n",
       "</style>\n",
       "<table border=\"1\" class=\"dataframe\">\n",
       "  <thead>\n",
       "    <tr style=\"text-align: right;\">\n",
       "      <th></th>\n",
       "      <th>mean_cost</th>\n",
       "      <th>mean_cost_rival</th>\n",
       "      <th>deals</th>\n",
       "      <th>from</th>\n",
       "      <th>to</th>\n",
       "      <th>requests</th>\n",
       "    </tr>\n",
       "  </thead>\n",
       "  <tbody>\n",
       "    <tr>\n",
       "      <th>0</th>\n",
       "      <td>103197.80</td>\n",
       "      <td>125185.20</td>\n",
       "      <td>95.0</td>\n",
       "      <td>2016-12-05</td>\n",
       "      <td>2016-12-11</td>\n",
       "      <td>NaN</td>\n",
       "    </tr>\n",
       "    <tr>\n",
       "      <th>1</th>\n",
       "      <td>107808.30</td>\n",
       "      <td>111489.70</td>\n",
       "      <td>79.0</td>\n",
       "      <td>2016-12-12</td>\n",
       "      <td>2016-12-18</td>\n",
       "      <td>NaN</td>\n",
       "    </tr>\n",
       "    <tr>\n",
       "      <th>2</th>\n",
       "      <td>92518.58</td>\n",
       "      <td>98027.54</td>\n",
       "      <td>73.0</td>\n",
       "      <td>2016-12-19</td>\n",
       "      <td>2016-12-25</td>\n",
       "      <td>NaN</td>\n",
       "    </tr>\n",
       "    <tr>\n",
       "      <th>3</th>\n",
       "      <td>80068.75</td>\n",
       "      <td>98274.79</td>\n",
       "      <td>59.0</td>\n",
       "      <td>2016-12-26</td>\n",
       "      <td>2017-01-01</td>\n",
       "      <td>NaN</td>\n",
       "    </tr>\n",
       "    <tr>\n",
       "      <th>4</th>\n",
       "      <td>97560.45</td>\n",
       "      <td>128452.00</td>\n",
       "      <td>112.0</td>\n",
       "      <td>2017-01-02</td>\n",
       "      <td>2017-01-08</td>\n",
       "      <td>NaN</td>\n",
       "    </tr>\n",
       "  </tbody>\n",
       "</table>\n",
       "</div>"
      ],
      "text/plain": [
       "   mean_cost  mean_cost_rival  deals        from          to  requests\n",
       "0  103197.80        125185.20   95.0  2016-12-05  2016-12-11       NaN\n",
       "1  107808.30        111489.70   79.0  2016-12-12  2016-12-18       NaN\n",
       "2   92518.58         98027.54   73.0  2016-12-19  2016-12-25       NaN\n",
       "3   80068.75         98274.79   59.0  2016-12-26  2017-01-01       NaN\n",
       "4   97560.45        128452.00  112.0  2017-01-02  2017-01-08       NaN"
      ]
     },
     "execution_count": 2,
     "metadata": {},
     "output_type": "execute_result"
    }
   ],
   "source": [
    "data = pd.read_csv(\"data.csv\", sep=',')\n",
    "data.head(5)"
   ]
  },
  {
   "cell_type": "markdown",
   "metadata": {},
   "source": [
    "Условия задачи дают понять, что потенциальные клиенты находят и покупают билеты **\"ОАЭ Тур\"** через поисковую систему Яндекс по запросу «туры в оаэ». \n",
    "\n",
    "Для того, чтобы отследить количество потенциальных клиентов за прошлые недели, необходимо обратиться к сервису Яндекс.Wordstat, который подготовит отчет за необходимые временные интервалы. К сожалению, самые ранние сведения, которые удалось посмотреть, это данные от **20.03.2017**.\n",
    "\n",
    "![title](screen.png)"
   ]
  },
  {
   "cell_type": "code",
   "execution_count": 3,
   "metadata": {},
   "outputs": [
    {
     "data": {
      "image/png": "[encoded data removed]",
      "text/plain": [
       "<matplotlib.figure.Figure at 0x1154b7a58>"
      ]
     },
     "metadata": {},
     "output_type": "display_data"
    }
   ],
   "source": [
    "import matplotlib.pyplot as plt\n",
    "\n",
    "plt.figure(figsize=(16,8))\n",
    "\n",
    "new_index = np.arange(data.dropna().shape[0])\n",
    "req_plt, = plt.plot(new_index, data.dropna().requests / 60, label=\"Scaled count of requests\", c=\"b\")\n",
    "deal_plt, = plt.plot(new_index, data.dropna().deals, label=\"Deals\", c=\"r\")\n",
    "plt.legend(handles=[req_plt, deal_plt])\n",
    "plt.xlabel(\"Period\", fontsize=14)\n",
    "plt.ylabel(\"Requests\", fontsize=14)\n",
    "\n",
    "plt.show()"
   ]
  },
  {
   "cell_type": "markdown",
   "metadata": {},
   "source": [
    "Вместе с тем, если сравнивать форму графика и корреляцию между значением количества запросов и эндогенной переменной становится ясно, что имеется сильная зависимость между этими переменными."
   ]
  },
  {
   "cell_type": "code",
   "execution_count": 4,
   "metadata": {},
   "outputs": [
    {
     "data": {
      "text/html": [
       "<div>\n",
       "<style>\n",
       "    .dataframe thead tr:only-child th {\n",
       "        text-align: right;\n",
       "    }\n",
       "\n",
       "    .dataframe thead th {\n",
       "        text-align: left;\n",
       "    }\n",
       "\n",
       "    .dataframe tbody tr th {\n",
       "        vertical-align: top;\n",
       "    }\n",
       "</style>\n",
       "<table border=\"1\" class=\"dataframe\">\n",
       "  <thead>\n",
       "    <tr style=\"text-align: right;\">\n",
       "      <th></th>\n",
       "      <th>requests</th>\n",
       "      <th>deals</th>\n",
       "    </tr>\n",
       "  </thead>\n",
       "  <tbody>\n",
       "    <tr>\n",
       "      <th>requests</th>\n",
       "      <td>1.000000</td>\n",
       "      <td>0.896407</td>\n",
       "    </tr>\n",
       "    <tr>\n",
       "      <th>deals</th>\n",
       "      <td>0.896407</td>\n",
       "      <td>1.000000</td>\n",
       "    </tr>\n",
       "  </tbody>\n",
       "</table>\n",
       "</div>"
      ],
      "text/plain": [
       "          requests     deals\n",
       "requests  1.000000  0.896407\n",
       "deals     0.896407  1.000000"
      ]
     },
     "execution_count": 4,
     "metadata": {},
     "output_type": "execute_result"
    }
   ],
   "source": [
    "data[[\"requests\", \"deals\"]].corr()"
   ]
  },
  {
   "cell_type": "markdown",
   "metadata": {},
   "source": [
    "Из условия задачи определена функция полезности $ U(q) = \\sum_{i} a_{i}\\ln q_{i} $.\n",
    "Для того, чтобы определить потенциальному клиенту предпочтение, необходимо рассчитать ***предельные полезности***:\n",
    "<center> $ MU_1 = \\cfrac{dU_1}{dq_1} = \\cfrac{1}{q_1};$ </center>\n",
    "<center> $ MU_2 = \\cfrac{dU_2}{dq_2} = \\cfrac{1}{q_2}.$ </center>\n",
    "\n",
    "$ MRS_{q_1 q_2} = \\cfrac{MU_1}{MU_2} = \\cfrac{q_2}{q_1} $ - **предельная норма замены** определяет, во сколько раз предельная полезность $ q_1 $ превышает $ q_2 $\n",
    "\n",
    "Так как зависимость средней цены билета \"ОАЭ Тур\" и конкурента определены, то значения этого параметра следует применять для построения модели предсказания цены. Соответсвенно, цены за билеты исключаются из модели."
   ]
  },
  {
   "cell_type": "code",
   "execution_count": 5,
   "metadata": {},
   "outputs": [
    {
     "data": {
      "text/html": [
       "<div>\n",
       "<style>\n",
       "    .dataframe thead tr:only-child th {\n",
       "        text-align: right;\n",
       "    }\n",
       "\n",
       "    .dataframe thead th {\n",
       "        text-align: left;\n",
       "    }\n",
       "\n",
       "    .dataframe tbody tr th {\n",
       "        vertical-align: top;\n",
       "    }\n",
       "</style>\n",
       "<table border=\"1\" class=\"dataframe\">\n",
       "  <thead>\n",
       "    <tr style=\"text-align: right;\">\n",
       "      <th></th>\n",
       "      <th>requests</th>\n",
       "      <th>useful</th>\n",
       "      <th>deals</th>\n",
       "    </tr>\n",
       "  </thead>\n",
       "  <tbody>\n",
       "    <tr>\n",
       "      <th>requests</th>\n",
       "      <td>1.000000</td>\n",
       "      <td>-0.162319</td>\n",
       "      <td>0.896407</td>\n",
       "    </tr>\n",
       "    <tr>\n",
       "      <th>useful</th>\n",
       "      <td>-0.162319</td>\n",
       "      <td>1.000000</td>\n",
       "      <td>0.456556</td>\n",
       "    </tr>\n",
       "    <tr>\n",
       "      <th>deals</th>\n",
       "      <td>0.896407</td>\n",
       "      <td>0.456556</td>\n",
       "      <td>1.000000</td>\n",
       "    </tr>\n",
       "  </tbody>\n",
       "</table>\n",
       "</div>"
      ],
      "text/plain": [
       "          requests    useful     deals\n",
       "requests  1.000000 -0.162319  0.896407\n",
       "useful   -0.162319  1.000000  0.456556\n",
       "deals     0.896407  0.456556  1.000000"
      ]
     },
     "execution_count": 5,
     "metadata": {},
     "output_type": "execute_result"
    }
   ],
   "source": [
    "data[\"useful\"] = data.mean_cost_rival / data.mean_cost\n",
    "data[[\"requests\", \"useful\", \"deals\"]].corr()"
   ]
  },
  {
   "cell_type": "code",
   "execution_count": 6,
   "metadata": {
    "scrolled": false
   },
   "outputs": [
    {
     "name": "stderr",
     "output_type": "stream",
     "text": [
      "/Users/Ar4eBaT/anaconda3/lib/python3.6/site-packages/statsmodels/compat/pandas.py:56: FutureWarning: The pandas.core.datetools module is deprecated and will be removed in a future version. Please use the pandas.tseries module instead.\n",
      "  from pandas.core import datetools\n"
     ]
    },
    {
     "name": "stdout",
     "output_type": "stream",
     "text": [
      "                            OLS Regression Results                            \n",
      "==============================================================================\n",
      "Dep. Variable:                  deals   R-squared:                       0.980\n",
      "Model:                            OLS   Adj. R-squared:                  0.978\n",
      "Method:                 Least Squares   F-statistic:                     577.7\n",
      "Date:                Sat, 31 Mar 2018   Prob (F-statistic):           5.05e-21\n",
      "Time:                        12:32:01   Log-Likelihood:                -72.173\n",
      "No. Observations:                  27   AIC:                             150.3\n",
      "Df Residuals:                      24   BIC:                             154.2\n",
      "Df Model:                           2                                         \n",
      "Covariance Type:            nonrobust                                         \n",
      "==============================================================================\n",
      "                 coef    std err          t      P>|t|      [0.025      0.975]\n",
      "------------------------------------------------------------------------------\n",
      "Intercept    -75.3207      6.078    -12.392      0.000     -87.866     -62.776\n",
      "useful        75.8913      5.266     14.411      0.000      65.023      86.760\n",
      "requests       0.0145      0.000     32.794      0.000       0.014       0.015\n",
      "==============================================================================\n",
      "Omnibus:                        0.896   Durbin-Watson:                   2.186\n",
      "Prob(Omnibus):                  0.639   Jarque-Bera (JB):                0.882\n",
      "Skew:                           0.375   Prob(JB):                        0.643\n",
      "Kurtosis:                       2.529   Cond. No.                     6.44e+04\n",
      "==============================================================================\n",
      "\n",
      "Warnings:\n",
      "[1] Standard Errors assume that the covariance matrix of the errors is correctly specified.\n",
      "[2] The condition number is large, 6.44e+04. This might indicate that there are\n",
      "strong multicollinearity or other numerical problems.\n"
     ]
    },
    {
     "data": {
      "image/png": "[encoded data removed]",
      "text/plain": [
       "<matplotlib.figure.Figure at 0x1c209e5b38>"
      ]
     },
     "metadata": {},
     "output_type": "display_data"
    },
    {
     "name": "stdout",
     "output_type": "stream",
     "text": [
      "Breusch-Pagan test: p=0.194126\n"
     ]
    },
    {
     "name": "stderr",
     "output_type": "stream",
     "text": [
      "/Users/Ar4eBaT/anaconda3/lib/python3.6/site-packages/ipykernel_launcher.py:17: DeprecationWarning: `het_breushpagan` is deprecated, use `het_breuschpagan` instead!\n",
      "Use het_breuschpagan, het_breushpagan will be removed in 0.9 \n",
      "(Note: misspelling missing 'c')\n"
     ]
    }
   ],
   "source": [
    "import statsmodels.api as sm\n",
    "import statsmodels.formula.api as smf\n",
    "import statsmodels.stats.api as sms\n",
    "\n",
    "estimator = smf.ols(\"deals ~ useful + requests\", data)\n",
    "\n",
    "fitted = estimator.fit()\n",
    "print(fitted.summary())\n",
    "\n",
    "plt.figure(figsize=(16,8))\n",
    "\n",
    "plt.plot(new_index, fitted.resid, c=\"g\")\n",
    "plt.xlabel(\"Period\", fontsize=14)\n",
    "plt.ylabel(\"Resid\", fontsize=14)\n",
    "\n",
    "plt.show()\n",
    "print('Breusch-Pagan test: p=%f' % sms.het_breushpagan(fitted.resid, fitted.model.exog)[1])"
   ]
  },
  {
   "cell_type": "markdown",
   "metadata": {},
   "source": [
    "Значение коэффициента детерминации $ R^2 $ приближены к 1, а также тест Бройша-Пагана отверг гипотезу о гетероскедантичности признаков следовательно признаки подобраны хорошо.\n",
    "\n",
    "Далее, можно приступать к выбору модели."
   ]
  },
  {
   "cell_type": "code",
   "execution_count": 7,
   "metadata": {},
   "outputs": [],
   "source": [
    "x_train_data = data.dropna()[['useful', \"requests\"]]\n",
    "y_train_data = data.dropna()['deals']\n",
    "\n",
    "x_test_data = data.iloc[42:][['useful', \"requests\"]]"
   ]
  },
  {
   "cell_type": "code",
   "execution_count": 8,
   "metadata": {},
   "outputs": [
    {
     "data": {
      "text/plain": [
       "{'grad': -152.48532889356255,\n",
       " 'linear': -14.920428837986753,\n",
       " 'rand': -143.85338000000002,\n",
       " 'sgd_l1': -1.1922622922721715e+33,\n",
       " 'sgd_l2': -1.4092667338480776e+33,\n",
       " 'svm': -169.10124474061962}"
      ]
     },
     "execution_count": 8,
     "metadata": {},
     "output_type": "execute_result"
    }
   ],
   "source": [
    "from sklearn.model_selection import cross_val_score\n",
    "\n",
    "from sklearn.linear_model import LinearRegression, SGDRegressor\n",
    "from sklearn.ensemble import RandomForestRegressor, GradientBoostingRegressor\n",
    "from sklearn.svm import SVR\n",
    "\n",
    "linear = LinearRegression()\n",
    "sgd_l1 = SGDRegressor(penalty='l1', max_iter=100)\n",
    "sgd_l2 = SGDRegressor(penalty='l2', max_iter=100)\n",
    "rand = RandomForestRegressor(n_estimators=100, max_depth=10)\n",
    "grad = GradientBoostingRegressor(max_depth=10)\n",
    "svm = SVR(kernel=\"linear\")\n",
    "\n",
    "score_list = dict()\n",
    "score_list[\"linear\"] = cross_val_score(linear, x_train_data, y_train_data,\n",
    "                                       cv=10, scoring='neg_mean_squared_error').mean()\n",
    "score_list[\"sgd_l1\"] = cross_val_score(sgd_l1, x_train_data, y_train_data,\n",
    "                                       cv=10, scoring='neg_mean_squared_error').mean()\n",
    "score_list[\"sgd_l2\"] = cross_val_score(sgd_l2, x_train_data, y_train_data,\n",
    "                                       cv=10, scoring='neg_mean_squared_error').mean()\n",
    "score_list[\"rand\"] = cross_val_score(rand, x_train_data, y_train_data,\n",
    "                                     cv=10, scoring='neg_mean_squared_error').mean()\n",
    "score_list[\"grad\"] = cross_val_score(grad, x_train_data, y_train_data,\n",
    "                                     cv=10, scoring='neg_mean_squared_error').mean()\n",
    "score_list[\"svm\"] = cross_val_score(svm, x_train_data, y_train_data,\n",
    "                                    cv=10, scoring='neg_mean_squared_error').mean()\n",
    "\n",
    "score_list"
   ]
  },
  {
   "cell_type": "markdown",
   "metadata": {},
   "source": [
    "Очевидно, что из всех представленных моделей на кросс валидации минимальную квадратичную ошибку имеет линейная модель, поэтому будем использовать ее для предсказания новых значений."
   ]
  },
  {
   "cell_type": "code",
   "execution_count": 9,
   "metadata": {},
   "outputs": [
    {
     "data": {
      "text/html": [
       "<div>\n",
       "<style>\n",
       "    .dataframe thead tr:only-child th {\n",
       "        text-align: right;\n",
       "    }\n",
       "\n",
       "    .dataframe thead th {\n",
       "        text-align: left;\n",
       "    }\n",
       "\n",
       "    .dataframe tbody tr th {\n",
       "        vertical-align: top;\n",
       "    }\n",
       "</style>\n",
       "<table border=\"1\" class=\"dataframe\">\n",
       "  <thead>\n",
       "    <tr style=\"text-align: right;\">\n",
       "      <th></th>\n",
       "      <th>from</th>\n",
       "      <th>to</th>\n",
       "      <th>deals</th>\n",
       "    </tr>\n",
       "  </thead>\n",
       "  <tbody>\n",
       "    <tr>\n",
       "      <th>42</th>\n",
       "      <td>2017-09-25</td>\n",
       "      <td>2017-10-01</td>\n",
       "      <td>132</td>\n",
       "    </tr>\n",
       "    <tr>\n",
       "      <th>43</th>\n",
       "      <td>2017-10-02</td>\n",
       "      <td>2017-10-08</td>\n",
       "      <td>148</td>\n",
       "    </tr>\n",
       "    <tr>\n",
       "      <th>44</th>\n",
       "      <td>2017-10-09</td>\n",
       "      <td>2017-10-15</td>\n",
       "      <td>169</td>\n",
       "    </tr>\n",
       "    <tr>\n",
       "      <th>45</th>\n",
       "      <td>2017-10-16</td>\n",
       "      <td>2017-10-22</td>\n",
       "      <td>155</td>\n",
       "    </tr>\n",
       "    <tr>\n",
       "      <th>46</th>\n",
       "      <td>2017-10-23</td>\n",
       "      <td>2017-10-29</td>\n",
       "      <td>150</td>\n",
       "    </tr>\n",
       "    <tr>\n",
       "      <th>47</th>\n",
       "      <td>2017-10-30</td>\n",
       "      <td>2017-11-05</td>\n",
       "      <td>151</td>\n",
       "    </tr>\n",
       "    <tr>\n",
       "      <th>48</th>\n",
       "      <td>2017-11-06</td>\n",
       "      <td>2017-11-12</td>\n",
       "      <td>153</td>\n",
       "    </tr>\n",
       "    <tr>\n",
       "      <th>49</th>\n",
       "      <td>2017-11-13</td>\n",
       "      <td>2017-11-19</td>\n",
       "      <td>163</td>\n",
       "    </tr>\n",
       "    <tr>\n",
       "      <th>50</th>\n",
       "      <td>2017-11-20</td>\n",
       "      <td>2017-11-26</td>\n",
       "      <td>130</td>\n",
       "    </tr>\n",
       "    <tr>\n",
       "      <th>51</th>\n",
       "      <td>2017-11-27</td>\n",
       "      <td>2017-12-03</td>\n",
       "      <td>158</td>\n",
       "    </tr>\n",
       "  </tbody>\n",
       "</table>\n",
       "</div>"
      ],
      "text/plain": [
       "          from          to  deals\n",
       "42  2017-09-25  2017-10-01    132\n",
       "43  2017-10-02  2017-10-08    148\n",
       "44  2017-10-09  2017-10-15    169\n",
       "45  2017-10-16  2017-10-22    155\n",
       "46  2017-10-23  2017-10-29    150\n",
       "47  2017-10-30  2017-11-05    151\n",
       "48  2017-11-06  2017-11-12    153\n",
       "49  2017-11-13  2017-11-19    163\n",
       "50  2017-11-20  2017-11-26    130\n",
       "51  2017-11-27  2017-12-03    158"
      ]
     },
     "execution_count": 9,
     "metadata": {},
     "output_type": "execute_result"
    }
   ],
   "source": [
    "linear.fit(x_train_data, y_train_data)\n",
    "prediction = linear.predict(x_test_data).astype(int)\n",
    "\n",
    "output_data = data.iloc[42:][[\"from\", \"to\"]]\n",
    "output_data[\"deals\"] = prediction\n",
    "output_data.to_csv(\"result.csv\", index=False)\n",
    "output_data"
   ]
  }
 ],
 "metadata": {
  "kernelspec": {
   "display_name": "Python 3",
   "language": "python",
   "name": "python3"
  },
  "language_info": {
   "codemirror_mode": {
    "name": "ipython",
    "version": 3
   },
   "file_extension": ".py",
   "mimetype": "text/x-python",
   "name": "python",
   "nbconvert_exporter": "python",
   "pygments_lexer": "ipython3",
   "version": "3.6.4"
  }
 },
 "nbformat": 4,
 "nbformat_minor": 2
}
